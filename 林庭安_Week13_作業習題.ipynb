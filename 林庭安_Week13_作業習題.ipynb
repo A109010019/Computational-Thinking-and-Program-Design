{
  "nbformat": 4,
  "nbformat_minor": 0,
  "metadata": {
    "kernelspec": {
      "display_name": "Python 3",
      "language": "python",
      "name": "python3"
    },
    "language_info": {
      "codemirror_mode": {
        "name": "ipython",
        "version": 3
      },
      "file_extension": ".py",
      "mimetype": "text/x-python",
      "name": "python",
      "nbconvert_exporter": "python",
      "pygments_lexer": "ipython3",
      "version": "3.8.5"
    },
    "colab": {
      "name": "林庭安 - Week13 - 作業習題.ipynb",
      "provenance": [],
      "include_colab_link": true
    }
  },
  "cells": [
    {
      "cell_type": "markdown",
      "metadata": {
        "id": "view-in-github",
        "colab_type": "text"
      },
      "source": [
        "<a href=\"https://colab.research.google.com/github/A109010019/Computational-Thinking-and-Program-Design/blob/main/%E6%9E%97%E5%BA%AD%E5%AE%89_Week13_%E4%BD%9C%E6%A5%AD%E7%BF%92%E9%A1%8C.ipynb\" target=\"_parent\"><img src=\"https://colab.research.google.com/assets/colab-badge.svg\" alt=\"Open In Colab\"/></a>"
      ]
    },
    {
      "cell_type": "markdown",
      "metadata": {
        "id": "ghjcWhcazRX7"
      },
      "source": [
        "**隨堂練習1： BMI 計算**\n",
        "\n",
        "請寫一個程式讓使用者輸入身高與體重，顯示BMI 值與肥胖程度。 BMI 等於體重（KG）除以身高（M）的平方，而BMI 與肥胖分類標準如下：\n",
        "\n",
        "若BMI 值小於18，則顯示「體重過輕」，否則若BMI 值小於24，則顯示「體重正常」，若BMI 值小於27，則顯示「體重過重」，否則顯示「體重肥胖」。"
      ]
    },
    {
      "cell_type": "code",
      "metadata": {
        "colab": {
          "base_uri": "https://localhost:8080/"
        },
        "id": "3bIO_fzlzRX9",
        "outputId": "dfbb5f16-95f7-461a-80a1-4c30039c42e7"
      },
      "source": [
        "## BMI計算 \n",
        "BMI = float(input('請輸入BMI？')) \n",
        "if BMI < 18:print('體重過輕')\n",
        "if 18 < BMI < 24:print('體重正常')\n",
        "if 24 < BMI < 27:print('體重過重') "
      ],
      "execution_count": null,
      "outputs": [
        {
          "output_type": "stream",
          "text": [
            "請輸入BMI？19\n",
            "體重正常\n"
          ],
          "name": "stdout"
        }
      ]
    },
    {
      "cell_type": "markdown",
      "metadata": {
        "id": "iMb3gIzZzRX-"
      },
      "source": [
        "**隨堂練習2： 三一律(單向選擇、雙向與巢狀選擇、多向選擇)**\n",
        "\n",
        "請輸入一個數，然後判斷這個數是正數、是負數或者是零。"
      ]
    },
    {
      "cell_type": "code",
      "metadata": {
        "colab": {
          "base_uri": "https://localhost:8080/"
        },
        "id": "Bj7N3hv4zRYA",
        "outputId": "f903ed78-5f3f-4c75-ef48-27bb26742215"
      },
      "source": [
        "## 三一律 \n",
        "number = float(input('請輸入數字？')) \n",
        "if number < 0:print('負數')\n",
        "if -1 < number <1:print('零')\n",
        "if number > 0:print('正數') "
      ],
      "execution_count": null,
      "outputs": [
        {
          "output_type": "stream",
          "text": [
            "請輸入數字？0\n",
            "零\n"
          ],
          "name": "stdout"
        }
      ]
    },
    {
      "cell_type": "markdown",
      "metadata": {
        "id": "bhuD6X7EzRYB"
      },
      "source": [
        "**練習5   體溫與發燒**\n",
        "\n",
        "設計程式根據體溫判斷是否發燒，由使用者輸入體溫，程式判斷是否發燒，假設體溫小於36度，顯示「體溫過低」，體溫大於等於36度小於38度，顯示「體溫正常」，否則若體溫大於等於38度小於39度，顯示「體溫有點燒」，否則體溫大於等於39度，顯示「體溫很燒」。\n",
        "\n",
        "輸入體溫「36.5」，輸出為「體溫正常」。\n",
        "\n",
        "～程式執行結果如下。\n",
        "\n",
        "請輸入體溫？36.5\n",
        "\n",
        "體溫正常"
      ]
    },
    {
      "cell_type": "code",
      "metadata": {
        "colab": {
          "base_uri": "https://localhost:8080/"
        },
        "id": "ysy2EZ-ozRYC",
        "outputId": "e7b59f31-1de3-4d62-e22e-2e667410d1e9"
      },
      "source": [
        "## 體溫與發燒 \n",
        "temperature = float(input('請輸入體溫？')) \n",
        "if temperature < 36:print('體溫過低')\n",
        "if 36 <= temperature < 38:print('體溫正常')\n",
        "if 38 <= temperature < 39:print('體溫有點燒') \n",
        "if temperature > 39:print('體溫很燒')"
      ],
      "execution_count": null,
      "outputs": [
        {
          "output_type": "stream",
          "text": [
            "請輸入體溫？36.5\n",
            "體溫正常\n"
          ],
          "name": "stdout"
        }
      ]
    },
    {
      "cell_type": "markdown",
      "metadata": {
        "id": "pZORyR75zRYD"
      },
      "source": [
        "**練習6  閏年判斷**\n",
        "\n",
        "設計程式允許輸入西元幾年，請求出該年是否是閏年，閏年表示該年多一天，若為4的倍數稱做閏年，但若為100的倍數就不為閏年，且若為400倍數又是閏年。(四年一潤、百年不潤、四百年再潤)\n",
        "\n",
        "輸入年份「2012」，輸出為「2012是閏年」。\n",
        "\n",
        "～程式執行結果如下。\n",
        "\n",
        "請輸入年份？2012\n",
        "\n",
        "2012 是閏年"
      ]
    },
    {
      "cell_type": "code",
      "metadata": {
        "id": "MS2H7V71zRYE",
        "colab": {
          "base_uri": "https://localhost:8080/"
        },
        "outputId": "830d301f-b15d-44b7-b5b5-e3cbc24a7856"
      },
      "source": [
        "## 閏年判斷 \n",
        "temperature = float(input('請輸入體溫？')) \n",
        "if temperature < 36:print('體溫過低')\n",
        "if 36 <= temperature < 38:print('體溫正常')\n",
        "if 38 <= temperature < 39:print('體溫有點燒') \n",
        "if temperature > 39:print('體溫很燒')"
      ],
      "execution_count": 1,
      "outputs": [
        {
          "output_type": "stream",
          "text": [
            "請輸入體溫？38\n",
            "體溫有點燒\n"
          ],
          "name": "stdout"
        }
      ]
    },
    {
      "cell_type": "markdown",
      "metadata": {
        "id": "WTdD6nsKzRYF"
      },
      "source": [
        "**練習12：計程車計費**\n",
        "\n",
        "某城市計程車計費3公里以內6元，超過3公里不足10公里、每公里1.8元，超過10公里則超過部分加收50%。此外停車等候每3分鐘收1元，請用Python寫出車費是多少。"
      ]
    },
    {
      "cell_type": "code",
      "metadata": {
        "colab": {
          "base_uri": "https://localhost:8080/"
        },
        "id": "OH7BQyRkzRYG",
        "outputId": "ad75a624-a79e-4104-ba38-3989d12b27bc"
      },
      "source": [
        "## 計程車計費 \n",
        "km = float(input('請輸入公里數？')) \n",
        "if km < 3:print('車費為6元')\n",
        "if 3 <= km < 10:print('1.8*km')\n",
        "if km > 10:print('(1.8*km)+{(km-10)*50}') \n"
      ],
      "execution_count": null,
      "outputs": [
        {
          "output_type": "stream",
          "text": [
            "請輸入公里數？2\n",
            "車費為6元\n"
          ],
          "name": "stdout"
        }
      ]
    }
  ]
}